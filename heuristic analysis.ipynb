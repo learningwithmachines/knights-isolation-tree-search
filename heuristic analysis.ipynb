{
 "cells": [
  {
   "cell_type": "code",
   "execution_count": 2,
   "metadata": {
    "collapsed": true
   },
   "outputs": [],
   "source": [
    "import numpy as np\n",
    "import pandas as pd\n",
    "import matplotlib.pyplot as plot\n",
    "from IPython.display import display\n",
    "\n",
    "groups = 7\n",
    "heuristicvalues = []\n",
    "id_values = []\n",
    "labels = ('Random', 'MM_Open', 'MM_Center', 'MM_Improved', 'AB_Open', 'AB_Centered', 'AB_Improved')\n",
    "\n",
    "index = np.arange(groups)\n",
    "bar_width = 0.35\n",
    "\n",
    "def plot_graph_tables(AB_I_values, heuristic_values, label):\n",
    "    data = {'ID_Improved Agent Wins (Out of 10)': AB_I_values, 'Custom Agent Wins (Out of 10)': heuristic_values}\n",
    "    dataframe = pd.DataFrame(data)\n",
    "    display(dataframe)\n",
    "    AB_values = AB_I_values\n",
    "    custom_agent_values = heuristic_values\n",
    "    plot.bar(index, AB_values, bar_width,\n",
    "             color='b',\n",
    "             label='AB_Improved Agent')\n",
    "\n",
    "    plot.bar(index + bar_width, custom_agent_values, bar_width,\n",
    "                     color='r', label = label)\n",
    "\n",
    "    plot.xlabel('Agents')\n",
    "    plot.ylabel('Wins (OUT OF 20)')\n",
    "    plot.title('AB_Improved V/s Custom Agents')\n",
    "    plot.xticks(index + bar_width / 2, labels)\n",
    "    plot.rcParams[\"figure.figsize\"] = [20, 5]\n",
    "    plot.legend()\n",
    "    plot.show()\n",
    "    "
   ]
  },
  {
   "cell_type": "code",
   "execution_count": 9,
   "metadata": {
    "collapsed": true
   },
   "outputs": [
    {
     "name": "stdout",
     "output_type": "stream",
     "text": [
      "  18     13     10     09     10     13     18   \n\n  13     08     05     04     05     08     13   \n\n  10     05     02     01     02     05     10   \n\n  09     04     01     00     01     04     09   \n\n  10     05     02     01     02     05     10   \n\n  13     08     05     04     05     08     13   \n\n  18     13     10     09     10     13     18   \n\n"
     ]
    }
   ],
   "source": [
    "# What are the Grid's Centrality Values ?\n",
    "import math\n",
    "\n",
    "def distance(game, move1, move2 = None):\n",
    "\n",
    "    cx, cy = math.ceil((game.width-1) /2), math.ceil((game.height-1) /2)\n",
    "    \n",
    "    if move2:\n",
    "        return (move1[0] - move2[0]) ** 2 + (move1[1] - move2[0]) ** 2\n",
    "    else:\n",
    "        return (move1[0] - cx) ** 2 + (move1[1] - cy) ** 2\n",
    "\n",
    "from isolation import Board\n",
    "newgame = Board(1,0)\n",
    "\n",
    "allcells = newgame.get_blank_spaces()\n",
    "centerdict = {}\n",
    "\n",
    "for cell in allcells:\n",
    "    #print (cell)\n",
    "    newgame.apply_move(cell)\n",
    "    ID = cell\n",
    "    CNT = distance(newgame, cell)\n",
    "    centerdict[ID] = CNT\n",
    "    newgame = Board(1,0)\n",
    "\n",
    "for x in range(0, newgame.height):\n",
    "    for y in range(0, newgame.width):\n",
    "        if (x,y) in centerdict.keys():\n",
    "            print(\" \", end = ' ')\n",
    "            stringX = str(centerdict[(x,y)])\n",
    "            if len(stringX) == 1:\n",
    "                stringX = '0' + stringX\n",
    "            print(stringX,end='   ')\n",
    "    print(\"\\n\")"
   ]
  },
  {
   "cell_type": "code",
   "execution_count": 5,
   "metadata": {},
   "outputs": [
    {
     "name": "stdout",
     "output_type": "stream",
     "text": [
      "(-1, -1) <-X-X-> [(-1, 2), (2, -1)]\n(1, -1) <-X-X-> [(1, 2), (-2, 1)]\n(-1, 1) <-X-X-> [(-1, -2), (1, 2)]\n(1, 1) <-X-X-> [(-1, 2), (1, -2)]\n"
     ]
    }
   ],
   "source": [
    "directions = {\n",
    "            (-1, -1): [(-1, 2), (2, -1)], # top left\n",
    "            (1, -1): [(1, 2), (-2, 1)],  # top right\n",
    "            (-1, 1): [(-1, -2), (1, 2)],  # bottom left\n",
    "            (1, 1): [(-1, 2), (1, -2)]     # bottom right\n",
    "            }\n",
    "\n",
    "for keys, values in directions.items():\n",
    "    print(keys,\"<-X-X->\",values)"
   ]
  },
  {
   "cell_type": "code",
   "execution_count": 6,
   "metadata": {},
   "outputs": [
    {
     "data": {
      "text/html": [
       "<div>\n",
       "<style scoped>\n",
       "    .dataframe tbody tr th:only-of-type {\n",
       "        vertical-align: middle;\n",
       "    }\n",
       "\n",
       "    .dataframe tbody tr th {\n",
       "        vertical-align: top;\n",
       "    }\n",
       "\n",
       "    .dataframe thead th {\n",
       "        text-align: right;\n",
       "    }\n",
       "</style>\n",
       "<table border=\"1\" class=\"dataframe\">\n",
       "  <thead>\n",
       "    <tr style=\"text-align: right;\">\n",
       "      <th></th>\n",
       "      <th>Custom Agent Wins (Out of 10)</th>\n",
       "      <th>ID_Improved Agent Wins (Out of 10)</th>\n",
       "    </tr>\n",
       "  </thead>\n",
       "  <tbody>\n",
       "    <tr>\n",
       "      <th>0</th>\n",
       "      <td>10</td>\n",
       "      <td>10</td>\n",
       "    </tr>\n",
       "    <tr>\n",
       "      <th>1</th>\n",
       "      <td>8</td>\n",
       "      <td>9</td>\n",
       "    </tr>\n",
       "    <tr>\n",
       "      <th>2</th>\n",
       "      <td>10</td>\n",
       "      <td>10</td>\n",
       "    </tr>\n",
       "    <tr>\n",
       "      <th>3</th>\n",
       "      <td>9</td>\n",
       "      <td>9</td>\n",
       "    </tr>\n",
       "    <tr>\n",
       "      <th>4</th>\n",
       "      <td>4</td>\n",
       "      <td>5</td>\n",
       "    </tr>\n",
       "    <tr>\n",
       "      <th>5</th>\n",
       "      <td>8</td>\n",
       "      <td>7</td>\n",
       "    </tr>\n",
       "    <tr>\n",
       "      <th>6</th>\n",
       "      <td>5</td>\n",
       "      <td>6</td>\n",
       "    </tr>\n",
       "  </tbody>\n",
       "</table>\n",
       "</div>"
      ],
      "text/plain": [
       "<div>\n",
       "<style scoped>\n",
       "    .dataframe tbody tr th:only-of-type {\n",
       "        vertical-align: middle;\n",
       "    }\n",
       "\n",
       "    .dataframe tbody tr th {\n",
       "        vertical-align: top;\n",
       "    }\n",
       "\n",
       "    .dataframe thead th {\n",
       "        text-align: right;\n",
       "    }\n",
       "</style>\n",
       "<table border=\"1\" class=\"dataframe\">\n",
       "  <thead>\n",
       "    <tr style=\"text-align: right;\">\n",
       "      <th></th>\n",
       "      <th>Custom Agent Wins (Out of 10)</th>\n",
       "      <th>ID_Improved Agent Wins (Out of 10)</th>\n",
       "    </tr>\n",
       "  </thead>\n",
       "  <tbody>\n",
       "    <tr>\n",
       "      <th>0</th>\n",
       "      <td>10</td>\n",
       "      <td>10</td>\n",
       "    </tr>\n",
       "    <tr>\n",
       "      <th>1</th>\n",
       "      <td>8</td>\n",
       "      <td>9</td>\n",
       "    </tr>\n",
       "    <tr>\n",
       "      <th>2</th>\n",
       "      <td>10</td>\n",
       "      <td>10</td>\n",
       "    </tr>\n",
       "    <tr>\n",
       "      <th>3</th>\n",
       "      <td>9</td>\n",
       "      <td>9</td>\n",
       "    </tr>\n",
       "    <tr>\n",
       "      <th>4</th>\n",
       "      <td>4</td>\n",
       "      <td>5</td>\n",
       "    </tr>\n",
       "    <tr>\n",
       "      <th>5</th>\n",
       "      <td>8</td>\n",
       "      <td>7</td>\n",
       "    </tr>\n",
       "    <tr>\n",
       "      <th>6</th>\n",
       "      <td>5</td>\n",
       "      <td>6</td>\n",
       "    </tr>\n",
       "  </tbody>\n",
       "</table>\n",
       "</div>"
      ]
     },
     "execution_count": 0,
     "metadata": {},
     "output_type": "execute_result"
    },
    {
     "data": {
      "image/png": "[encoded data removed]",
      "text/plain": [
       "<matplotlib.figure.Figure at 0x1e8718d4278>"
      ]
     },
     "metadata": {},
     "output_type": "display_data"
    }
   ],
   "source": [
    "#1st Trial\n",
    "\n",
    "AB_improved_values = [10, 9, 10, 9, 5, 7, 6]\n",
    "heuristic_1_values = [10, 8, 10, 9, 4, 8, 5]\n",
    "label = 'Custom Agent: Open Move Score'\n",
    "plot_graph_tables(AB_improved_values, heuristic_1_values, label)"
   ]
  },
  {
   "cell_type": "code",
   "execution_count": 10,
   "metadata": {
    "collapsed": false
   },
   "outputs": [
    {
     "name": "stdout",
     "output_type": "stream",
     "text": [
      "  02     03     04     04     04     03     02   \n\n  03     04     06     06     06     04     03   \n\n  04     06     08     08     08     06     04   \n\n  04     06     08     08     08     06     04   \n\n  04     06     08     08     08     06     04   \n\n  03     04     06     06     06     04     03   \n\n  02     03     04     04     04     03     02   \n\n"
     ]
    }
   ],
   "source": [
    "# Bottoms Up\n",
    "# Using Iterative Blocking to see how safe moves in cells are.\n",
    "# Moves Safety (Living to die another day)\n",
    "import math, numpy\n",
    "import pandas\n",
    "from isolation import Board\n",
    "\n",
    "def num_applymoves(cell):\n",
    "    newgame = Board(1,0)\n",
    "    newgame.apply_move(cell)\n",
    "    playermoves  = newgame.get_legal_moves()\n",
    "    vectors = ((-2, -1), (-2, 1), (-1, -2), (-1, 2), (1, -2), (1, 2), (2, -1), (2, 1))\n",
    "    nextmovescore = len([(cell[0] + ray_[0], cell[1] + ray_[1])\n",
    "                    for ray_ in vectors if (cell[0] + ray_[0], cell[1] + ray_[1]) in playermoves ])\n",
    "    return nextmovescore\n",
    "\n",
    "newgame = Board(1,0)\n",
    "allcells = newgame.get_blank_spaces()\n",
    "movesdict = {}\n",
    "\n",
    "for cell in allcells:\n",
    "    #print (cell)\n",
    "    ID = cell\n",
    "    COUNT = num_applymoves(cell)\n",
    "    movesdict[ID] = COUNT\n",
    "    newgame = Board(1,0)\n",
    "\n",
    "for x in range(0, newgame.height):\n",
    "    for y in range(0, newgame.width):\n",
    "        if (x,y) in movesdict.keys():\n",
    "            print(' ', end = ' ')\n",
    "            stringX = str(movesdict[(x,y)])\n",
    "            if len(stringX) == 1:\n",
    "                stringX = '0' + stringX\n",
    "            print(stringX,end='   ')\n",
    "    print(\"\\n\")\n",
    "        "
   ]
  },
  {
   "cell_type": "code",
   "execution_count": 11,
   "metadata": {
    "collapsed": true
   },
   "outputs": [
    {
     "ename": "NameError",
     "evalue": "name 'player' is not defined",
     "traceback": [
      "\u001b[1;31m---------------------------------------------------------------------------\u001b[0m",
      "\u001b[1;31mNameError\u001b[0m                                 Traceback (most recent call last)",
      "\u001b[1;32m<ipython-input-11-6a718f983ae8>\u001b[0m in \u001b[0;36m<module>\u001b[1;34m()\u001b[0m\n\u001b[0;32m     19\u001b[0m \u001b[0mgame\u001b[0m\u001b[1;33m.\u001b[0m\u001b[0mapply_move\u001b[0m\u001b[1;33m(\u001b[0m\u001b[1;33m(\u001b[0m\u001b[1;36m0\u001b[0m\u001b[1;33m,\u001b[0m\u001b[1;36m0\u001b[0m\u001b[1;33m)\u001b[0m\u001b[1;33m)\u001b[0m\u001b[1;33m\u001b[0m\u001b[0m\n\u001b[0;32m     20\u001b[0m \u001b[0mgame\u001b[0m\u001b[1;33m.\u001b[0m\u001b[0mapply_move\u001b[0m\u001b[1;33m(\u001b[0m\u001b[1;33m(\u001b[0m\u001b[1;36m1\u001b[0m\u001b[1;33m,\u001b[0m\u001b[1;36m1\u001b[0m\u001b[1;33m)\u001b[0m\u001b[1;33m)\u001b[0m\u001b[1;33m\u001b[0m\u001b[0m\n\u001b[1;32m---> 21\u001b[1;33m \u001b[0mownloc\u001b[0m \u001b[1;33m=\u001b[0m \u001b[0mgame\u001b[0m\u001b[1;33m.\u001b[0m\u001b[0mget_player_location\u001b[0m\u001b[1;33m(\u001b[0m\u001b[0mplayer\u001b[0m\u001b[1;33m)\u001b[0m\u001b[1;33m\u001b[0m\u001b[0m\n\u001b[0m\u001b[0;32m     22\u001b[0m \u001b[0mopploc\u001b[0m \u001b[1;33m=\u001b[0m \u001b[0mgame\u001b[0m\u001b[1;33m.\u001b[0m\u001b[0mget_player_location\u001b[0m\u001b[1;33m(\u001b[0m\u001b[0mgame\u001b[0m\u001b[1;33m.\u001b[0m\u001b[0mget_opponent\u001b[0m\u001b[1;33m(\u001b[0m\u001b[0mplayer\u001b[0m\u001b[1;33m)\u001b[0m\u001b[1;33m)\u001b[0m\u001b[1;33m\u001b[0m\u001b[0m\n\u001b[0;32m     23\u001b[0m \u001b[0mownmoves\u001b[0m \u001b[1;33m=\u001b[0m \u001b[0mgame\u001b[0m\u001b[1;33m.\u001b[0m\u001b[0mget_legal_moves\u001b[0m\u001b[1;33m(\u001b[0m\u001b[0mplayer\u001b[0m\u001b[1;33m)\u001b[0m\u001b[1;33m\u001b[0m\u001b[0m\n",
      "\u001b[1;31mNameError\u001b[0m: name 'player' is not defined"
     ],
     "output_type": "error"
    }
   ],
   "source": [
    "#creating a composit heuristic: early game to end game\n",
    "#minimizing openmoves: not a priority, good thing if it happens! --> critical\n",
    "#centrality: medium priority --> medium priority (openmoves, kind of does this)\n",
    "#chase: no priority --> high/strict priority or vice-versa\n",
    "\n",
    "#logic\n",
    "#chase --> distance to opponent is less than 1 or 2 game moves worth of length\n",
    "#chase --> map(distance: player location, opponent location) <= one / half * size(quadrant)\n",
    "#chase --> quadrant distance located near or far from centre\n",
    "\n",
    "#centrality --> distance (centre, move) 4 maximas along diagonals, 4 minimas along orthogonal\n",
    "#centrality --> maximise without compromising moves, minimise without too\n",
    "\n",
    "#moves --> len(pmoves)-(omoves)*num, agressive: num >= 1, relaxed: num <= 1\n",
    "\n",
    "#code:\n",
    "#default vars\n",
    "game = Board('Zer0', 'Her0')\n",
    "game.apply_move((0,0))\n",
    "game.apply_move((1,1))\n",
    "ownloc = game.get_player_location(player)\n",
    "opploc = game.get_player_location(game.get_opponent(player))\n",
    "ownmoves = game.get_legal_moves(player)\n",
    "oppmoves  = game.get_legal_moves(game.get_opponent(player))\n",
    "\n",
    "\n",
    "#centrality\n",
    "score_distance = distance(game, ownloc)\n",
    "score_oppdistance = distance(game, opploc)\n",
    "#centrality of next moves\n",
    "score_dist_ownmoves = sum([distance(game, moves) for moves in ownmoves])\n",
    "score_dist_oppmoves = sum([distance(game, moves) for moves in ownmoves])\n",
    "\n",
    "#chase : 2 moves of (2,1) apart at max ? ~ 9 + 9 or 16, 4\n",
    "score_chase = 1 / max(18, distance(game, ownloc, opploc))\n",
    "\n",
    "#moves difference\n",
    "score_om = len(ownmoves) - len(oppmoves)\n",
    "#\n",
    "weight  = 8.0 / len(game.get_blank_spaces())\n",
    "score_om_weighted = len(ownmoves) - len(oppmoves) * weight\n",
    "#\n",
    "ownmovescore = float(sum([movesdict[move] for move in ownmoves]) / (len(ownmoves) + 1))\n",
    "oppmovescore = float(sum([movesdict[move] for move in oppmoves]) / (len(oppmoves) + 1))"
   ]
  }
 ],
 "metadata": {
  "kernelspec": {
   "display_name": "Python 2",
   "language": "python",
   "name": "python2"
  },
  "language_info": {
   "codemirror_mode": {
    "name": "ipython",
    "version": 2
   },
   "file_extension": ".py",
   "mimetype": "text/x-python",
   "name": "python",
   "nbconvert_exporter": "python",
   "pygments_lexer": "ipython2",
   "version": "2.7.6"
  }
 },
 "nbformat": 4,
 "nbformat_minor": 0
}
