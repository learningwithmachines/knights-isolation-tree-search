{
 "cells": [
  {
   "cell_type": "code",
   "execution_count": 19,
   "metadata": {
    "collapsed": true
   },
   "outputs": [],
   "source": [
    "import numpy as np\n",
    "import pandas as pd\n",
    "import matplotlib.pyplot as plot\n",
    "from IPython.display import display\n",
    "\n",
    "groups = 7\n",
    "heuristicvalues = []\n",
    "id_values = []\n",
    "labels = ('Random', 'MM_Open', 'MM_Center', 'MM_Improved', 'AB_Open', 'AB_Centered', 'AB_Improved')\n",
    "\n",
    "index = np.arange(groups)\n",
    "bar_width = 0.35\n",
    "\n",
    "def plot_graph_tables(AB_I_values, heuristic_values, label):\n",
    "    data = {'ID_Improved Agent Wins (Out of 10)': AB_I_values, 'Custom Agent Wins (Out of 10)': heuristic_values}\n",
    "    dataframe = pd.DataFrame(data)\n",
    "    display(dataframe)\n",
    "    AB_values = AB_I_values\n",
    "    custom_agent_values = heuristic_values\n",
    "    plot.bar(index, AB_values, bar_width,\n",
    "             color='b',\n",
    "             label='AB_Improved Agent')\n",
    "\n",
    "    plot.bar(index + bar_width, custom_agent_values, bar_width,\n",
    "                     color='r', label = label)\n",
    "\n",
    "    plot.xlabel('Agents')\n",
    "    plot.ylabel('Wins (OUT OF 20)')\n",
    "    plot.title('AB_Improved V/s Custom Agents')\n",
    "    plot.xticks(index + bar_width / 2, labels)\n",
    "    plot.rcParams[\"figure.figsize\"] = [20, 5]\n",
    "    plot.legend()\n",
    "    plot.show()\n",
    "    "
   ]
  },
  {
   "cell_type": "code",
   "execution_count": 6,
   "metadata": {
    "collapsed": true
   },
   "outputs": [
    {
     "name": "stdout",
     "output_type": "stream",
     "text": [
      "(0, 0) : 18\n(1, 0) : 13\n(2, 0) : 10\n(3, 0) : 9\n(4, 0) : 10\n(5, 0) : 13\n(6, 0) : 18\n(0, 1) : 13\n(1, 1) : 8\n(2, 1) : 5\n(3, 1) : 4\n(4, 1) : 5\n(5, 1) : 8\n(6, 1) : 13\n(0, 2) : 10\n(1, 2) : 5\n(2, 2) : 2\n(3, 2) : 1\n(4, 2) : 2\n(5, 2) : 5\n(6, 2) : 10\n(0, 3) : 9\n(1, 3) : 4\n(2, 3) : 1\n(3, 3) : 0\n(4, 3) : 1\n(5, 3) : 4\n(6, 3) : 9\n(0, 4) : 10\n(1, 4) : 5\n(2, 4) : 2\n(3, 4) : 1\n(4, 4) : 2\n(5, 4) : 5\n(6, 4) : 10\n(0, 5) : 13\n(1, 5) : 8\n(2, 5) : 5\n(3, 5) : 4\n(4, 5) : 5\n(5, 5) : 8\n(6, 5) : 13\n(0, 6) : 18\n(1, 6) : 13\n(2, 6) : 10\n(3, 6) : 9\n(4, 6) : 10\n(5, 6) : 13\n(6, 6) : 18\n"
     ]
    }
   ],
   "source": [
    "# What are the Grid's Centrality Values ?\n",
    "import math, numpy\n",
    "import pandas\n",
    "\n",
    "def distance(game, move1, move2 = None):\n",
    "\n",
    "    cx, cy = math.ceil((game.width-1) /2), math.ceil((game.height-1) /2)\n",
    "    \n",
    "    if move2:\n",
    "        return (move1[0] - move2[0]) ** 2 + (move1[1] - move2[0]) ** 2\n",
    "    else:\n",
    "        return (move1[0] - cx) ** 2 + (move1[1] - cy) ** 2\n",
    "\n",
    "from isolation import Board\n",
    "newgame = Board(1,0)\n",
    "\n",
    "allcells = newgame.get_blank_spaces()\n",
    "centerdict = {}\n",
    "\n",
    "for cell in allcells:\n",
    "    #print (cell)\n",
    "    newgame.apply_move(cell)\n",
    "    ID = str(cell)\n",
    "    CNT = distance(newgame, cell)\n",
    "    centerdict[ID] = CNT\n",
    "    newgame = Board(1,0)\n",
    "\n",
    "for key in movesdict:\n",
    "    print(key,\":\",centerdict[key])\n"
   ]
  },
  {
   "cell_type": "code",
   "execution_count": 7,
   "metadata": {},
   "outputs": [
    {
     "name": "stdout",
     "output_type": "stream",
     "text": [
      "(-1, -1) <-X-X-> [(-1, 2), (2, -1)]\n(1, -1) <-X-X-> [(1, 2), (-2, 1)]\n(-1, 1) <-X-X-> [(-1, -2), (1, 2)]\n(1, 1) <-X-X-> [(-1, 2), (1, -2)]\n"
     ]
    }
   ],
   "source": [
    "directions = {\n",
    "            (-1, -1): [(-1, 2), (2, -1)], # top left\n",
    "            (1, -1): [(1, 2), (-2, 1)],  # top right\n",
    "            (-1, 1): [(-1, -2), (1, 2)],  # bottom left\n",
    "            (1, 1): [(-1, 2), (1, -2)]     # bottom right\n",
    "            }\n",
    "\n",
    "for keys, values in directions.items():\n",
    "    print(keys,\"<-X-X->\",values)"
   ]
  },
  {
   "cell_type": "code",
   "execution_count": 8,
   "metadata": {},
   "outputs": [
    {
     "ename": "NameError",
     "evalue": "name 'plot_graph_tables' is not defined",
     "traceback": [
      "\u001b[1;31m---------------------------------------------------------------------------\u001b[0m",
      "\u001b[1;31mNameError\u001b[0m                                 Traceback (most recent call last)",
      "\u001b[1;32m<ipython-input-8-362aecef9633>\u001b[0m in \u001b[0;36m<module>\u001b[1;34m()\u001b[0m\n\u001b[0;32m      4\u001b[0m \u001b[0mheuristic_1_values\u001b[0m \u001b[1;33m=\u001b[0m \u001b[1;33m[\u001b[0m\u001b[1;36m10\u001b[0m\u001b[1;33m,\u001b[0m \u001b[1;36m8\u001b[0m\u001b[1;33m,\u001b[0m \u001b[1;36m10\u001b[0m\u001b[1;33m,\u001b[0m \u001b[1;36m9\u001b[0m\u001b[1;33m,\u001b[0m \u001b[1;36m4\u001b[0m\u001b[1;33m,\u001b[0m \u001b[1;36m8\u001b[0m\u001b[1;33m,\u001b[0m \u001b[1;36m5\u001b[0m\u001b[1;33m]\u001b[0m\u001b[1;33m\u001b[0m\u001b[0m\n\u001b[0;32m      5\u001b[0m \u001b[0mlabel\u001b[0m \u001b[1;33m=\u001b[0m \u001b[1;34m'Custom Agent: Open Move Score'\u001b[0m\u001b[1;33m\u001b[0m\u001b[0m\n\u001b[1;32m----> 6\u001b[1;33m \u001b[0mplot_graph_tables\u001b[0m\u001b[1;33m(\u001b[0m\u001b[0mAB_improved_values\u001b[0m\u001b[1;33m,\u001b[0m \u001b[0mheuristic_1_values\u001b[0m\u001b[1;33m,\u001b[0m \u001b[0mlabel\u001b[0m\u001b[1;33m)\u001b[0m\u001b[1;33m\u001b[0m\u001b[0m\n\u001b[0m",
      "\u001b[1;31mNameError\u001b[0m: name 'plot_graph_tables' is not defined"
     ],
     "output_type": "error"
    }
   ],
   "source": [
    "#1st Trial\n",
    "\n",
    "AB_improved_values = [10, 9, 10, 9, 5, 7, 6]\n",
    "heuristic_1_values = [10, 8, 10, 9, 4, 8, 5]\n",
    "label = 'Custom Agent: Open Move Score'\n",
    "plot_graph_tables(AB_improved_values, heuristic_1_values, label)"
   ]
  },
  {
   "cell_type": "code",
   "execution_count": 11,
   "metadata": {
    "collapsed": false
   },
   "outputs": [
    {
     "name": "stdout",
     "output_type": "stream",
     "text": [
      "(0, 0) : 2\n(1, 0) : 3\n(2, 0) : 4\n(3, 0) : 4\n(4, 0) : 4\n(5, 0) : 3\n(6, 0) : 2\n(0, 1) : 3\n(1, 1) : 4\n(2, 1) : 6\n(3, 1) : 6\n(4, 1) : 6\n(5, 1) : 4\n(6, 1) : 3\n(0, 2) : 4\n(1, 2) : 6\n(2, 2) : 8\n(3, 2) : 8\n(4, 2) : 8\n(5, 2) : 6\n(6, 2) : 4\n(0, 3) : 4\n(1, 3) : 6\n(2, 3) : 8\n(3, 3) : 8\n(4, 3) : 8\n(5, 3) : 6\n(6, 3) : 4\n(0, 4) : 4\n(1, 4) : 6\n(2, 4) : 8\n(3, 4) : 8\n(4, 4) : 8\n(5, 4) : 6\n(6, 4) : 4\n(0, 5) : 3\n(1, 5) : 4\n(2, 5) : 6\n(3, 5) : 6\n(4, 5) : 6\n(5, 5) : 4\n(6, 5) : 3\n(0, 6) : 2\n(1, 6) : 3\n(2, 6) : 4\n(3, 6) : 4\n(4, 6) : 4\n(5, 6) : 3\n(6, 6) : 2\n"
     ]
    }
   ],
   "source": [
    "# Bottoms Up\n",
    "# Use Random Blocking to see how safe certain moves in cells are.\n",
    "# Moves Safety (Living to die another day)\n",
    "import math, numpy\n",
    "import pandas\n",
    "from isolation import Board\n",
    "\n",
    "def num_applymoves(cell):\n",
    "    newgame = Board(1,0)\n",
    "    newgame.apply_move(cell)\n",
    "    playermoves  = newgame.get_legal_moves()\n",
    "    vectors = ((-2, -1), (-2, 1), (-1, -2), (-1, 2), (1, -2), (1, 2), (2, -1), (2, 1))\n",
    "    nextmovescore = len([(cell[0] + ray_[0], cell[1] + ray_[1])\n",
    "                    for ray_ in vectors if (cell[0] + ray_[0], cell[1] + ray_[1]) in playermoves ])\n",
    "    return nextmovescore\n",
    "\n",
    "newgame = Board(1,0)\n",
    "allcells = newgame.get_blank_spaces()\n",
    "movesdict = {}\n",
    "\n",
    "for cell in allcells:\n",
    "    #print (cell)\n",
    "    ID = str(cell)\n",
    "    COUNT = num_applymoves(cell)\n",
    "    movesdict[ID] = COUNT\n",
    "    newgame = Board(1,0)\n",
    "\n",
    "for key in movesdict:\n",
    "    print(key,\":\",movesdict[key])\n",
    "        "
   ]
  },
  {
   "cell_type": "code",
   "execution_count": 9,
   "metadata": {
    "collapsed": true
   },
   "outputs": [
    {
     "name": "stdout",
     "output_type": "stream",
     "text": [
      "(0, 0) : -16\n(1, 0) : -10\n(2, 0) : -6\n(3, 0) : -5\n(4, 0) : -6\n(5, 0) : -10\n(6, 0) : -16\n(0, 1) : -10\n(1, 1) : -4\n(2, 1) : 1\n(3, 1) : 2\n(4, 1) : 1\n(5, 1) : -4\n(6, 1) : -10\n(0, 2) : -6\n(1, 2) : 1\n(2, 2) : 6\n(3, 2) : 7\n(4, 2) : 6\n(5, 2) : 1\n(6, 2) : -6\n(0, 3) : -5\n(1, 3) : 2\n(2, 3) : 7\n(3, 3) : 8\n(4, 3) : 7\n(5, 3) : 2\n(6, 3) : -5\n(0, 4) : -6\n(1, 4) : 1\n(2, 4) : 6\n(3, 4) : 7\n(4, 4) : 6\n(5, 4) : 1\n(6, 4) : -6\n(0, 5) : -10\n(1, 5) : -4\n(2, 5) : 1\n(3, 5) : 2\n(4, 5) : 1\n(5, 5) : -4\n(6, 5) : -10\n(0, 6) : -16\n(1, 6) : -10\n(2, 6) : -6\n(3, 6) : -5\n(4, 6) : -6\n(5, 6) : -10\n(6, 6) : -16\n"
     ]
    }
   ],
   "source": [
    "#creating a composite: early game to end game\n",
    "#minimizing moves: not a priority, good thing if it happens! --> critical\n",
    "#centrality: high priority --> low priority\n",
    "#chase: no priority --> high/strict priority\n",
    "\n",
    "#logic\n",
    "#chase --> distance to opponent is less than 1 or 2 game moves worth of length\n",
    "#chase --> map(distance: player location, opponent location) <= one / half * size(quadrant)\n",
    "#chase --> quadrant distance located near or far from centre\n",
    "\n",
    "#centrality --> distance (centre, move) 4 maximas along diagonals, 4 minimas along orthogonal\n",
    "#centrality --> maximise without compromising moves, minimise without too\n",
    "\n",
    "#moves --> len(pmoves)-(omoves)*num, agressive: num >= 1, relaxed: num <= 1\n",
    "#moves --> \n",
    "\n",
    "compositevalues = {}\n",
    "\n",
    "for keys in movesdict:\n",
    "    compositevalues[keys] = movesdict[keys] - centerdict[keys]\n",
    "\n",
    "for key in compositevalues:\n",
    "    print(key,\":\",compositevalues[key])"
   ]
  },
  {
   "cell_type": "code",
   "execution_count": 10,
   "metadata": {
    "collapsed": true
   },
   "outputs": [
    {
     "ename": "ValueError",
     "evalue": "not enough values to unpack (expected 3, got 2)",
     "traceback": [
      "\u001b[1;31m---------------------------------------------------------------------------\u001b[0m",
      "\u001b[1;31mValueError\u001b[0m                                Traceback (most recent call last)",
      "\u001b[1;32m<ipython-input-10-88582c61f0b4>\u001b[0m in \u001b[0;36m<module>\u001b[1;34m()\u001b[0m\n\u001b[0;32m      4\u001b[0m    \u001b[0mprint\u001b[0m\u001b[1;33m(\u001b[0m\u001b[0mscalarize\u001b[0m\u001b[1;33m(\u001b[0m\u001b[0mvaluesdict\u001b[0m\u001b[1;33m)\u001b[0m\u001b[1;33m)\u001b[0m\u001b[1;33m\u001b[0m\u001b[0m\n\u001b[0;32m      5\u001b[0m \u001b[1;33m\u001b[0m\u001b[0m\n\u001b[1;32m----> 6\u001b[1;33m \u001b[0mscalar\u001b[0m\u001b[1;33m(\u001b[0m\u001b[0mcompositevalues\u001b[0m\u001b[1;33m)\u001b[0m\u001b[1;33m\u001b[0m\u001b[0m\n\u001b[0m",
      "\u001b[1;32m<ipython-input-10-88582c61f0b4>\u001b[0m in \u001b[0;36mscalar\u001b[1;34m(valuesdict)\u001b[0m\n\u001b[0;32m      1\u001b[0m \u001b[1;32mdef\u001b[0m \u001b[0mscalar\u001b[0m\u001b[1;33m(\u001b[0m\u001b[0mvaluesdict\u001b[0m\u001b[1;33m)\u001b[0m\u001b[1;33m:\u001b[0m\u001b[1;33m\u001b[0m\u001b[0m\n\u001b[0;32m      2\u001b[0m    \u001b[0mscalarize\u001b[0m \u001b[1;33m=\u001b[0m \u001b[1;32mlambda\u001b[0m \u001b[0mdictionary\u001b[0m\u001b[1;33m:\u001b[0m \u001b[1;33m[\u001b[0m\u001b[1;33m(\u001b[0m\u001b[0mi\u001b[0m\u001b[1;33m,\u001b[0m \u001b[0mxy\u001b[0m\u001b[1;33m[\u001b[0m\u001b[1;36m0\u001b[0m\u001b[1;33m]\u001b[0m\u001b[1;33m,\u001b[0m \u001b[0mxy\u001b[0m\u001b[1;33m[\u001b[0m\u001b[1;36m1\u001b[0m\u001b[1;33m]\u001b[0m\u001b[1;33m,\u001b[0m \u001b[0mz\u001b[0m\u001b[1;33m)\u001b[0m \u001b[1;32mfor\u001b[0m \u001b[0mi\u001b[0m\u001b[1;33m,\u001b[0m\u001b[0mxy\u001b[0m\u001b[1;33m,\u001b[0m\u001b[0mz\u001b[0m \u001b[1;32min\u001b[0m \u001b[0menumerate\u001b[0m\u001b[1;33m(\u001b[0m\u001b[0mdictionary\u001b[0m\u001b[1;33m)\u001b[0m\u001b[1;33m]\u001b[0m\u001b[1;33m\u001b[0m\u001b[0m\n\u001b[1;32m----> 3\u001b[1;33m    \u001b[0mNX\u001b[0m \u001b[1;33m=\u001b[0m \u001b[0mnumpy\u001b[0m\u001b[1;33m.\u001b[0m\u001b[0marray\u001b[0m\u001b[1;33m(\u001b[0m\u001b[0mscalarize\u001b[0m\u001b[1;33m(\u001b[0m\u001b[0mvaluesdict\u001b[0m\u001b[1;33m)\u001b[0m\u001b[1;33m)\u001b[0m\u001b[1;33m\u001b[0m\u001b[0m\n\u001b[0m\u001b[0;32m      4\u001b[0m    \u001b[0mprint\u001b[0m\u001b[1;33m(\u001b[0m\u001b[0mscalarize\u001b[0m\u001b[1;33m(\u001b[0m\u001b[0mvaluesdict\u001b[0m\u001b[1;33m)\u001b[0m\u001b[1;33m)\u001b[0m\u001b[1;33m\u001b[0m\u001b[0m\n\u001b[0;32m      5\u001b[0m \u001b[1;33m\u001b[0m\u001b[0m\n",
      "\u001b[1;32m<ipython-input-10-88582c61f0b4>\u001b[0m in \u001b[0;36m<lambda>\u001b[1;34m(dictionary)\u001b[0m\n\u001b[0;32m      1\u001b[0m \u001b[1;32mdef\u001b[0m \u001b[0mscalar\u001b[0m\u001b[1;33m(\u001b[0m\u001b[0mvaluesdict\u001b[0m\u001b[1;33m)\u001b[0m\u001b[1;33m:\u001b[0m\u001b[1;33m\u001b[0m\u001b[0m\n\u001b[1;32m----> 2\u001b[1;33m    \u001b[0mscalarize\u001b[0m \u001b[1;33m=\u001b[0m \u001b[1;32mlambda\u001b[0m \u001b[0mdictionary\u001b[0m\u001b[1;33m:\u001b[0m \u001b[1;33m[\u001b[0m\u001b[1;33m(\u001b[0m\u001b[0mi\u001b[0m\u001b[1;33m,\u001b[0m \u001b[0mxy\u001b[0m\u001b[1;33m[\u001b[0m\u001b[1;36m0\u001b[0m\u001b[1;33m]\u001b[0m\u001b[1;33m,\u001b[0m \u001b[0mxy\u001b[0m\u001b[1;33m[\u001b[0m\u001b[1;36m1\u001b[0m\u001b[1;33m]\u001b[0m\u001b[1;33m,\u001b[0m \u001b[0mz\u001b[0m\u001b[1;33m)\u001b[0m \u001b[1;32mfor\u001b[0m \u001b[0mi\u001b[0m\u001b[1;33m,\u001b[0m\u001b[0mxy\u001b[0m\u001b[1;33m,\u001b[0m\u001b[0mz\u001b[0m \u001b[1;32min\u001b[0m \u001b[0menumerate\u001b[0m\u001b[1;33m(\u001b[0m\u001b[0mdictionary\u001b[0m\u001b[1;33m)\u001b[0m\u001b[1;33m]\u001b[0m\u001b[1;33m\u001b[0m\u001b[0m\n\u001b[0m\u001b[0;32m      3\u001b[0m    \u001b[0mNX\u001b[0m \u001b[1;33m=\u001b[0m \u001b[0mnumpy\u001b[0m\u001b[1;33m.\u001b[0m\u001b[0marray\u001b[0m\u001b[1;33m(\u001b[0m\u001b[0mscalarize\u001b[0m\u001b[1;33m(\u001b[0m\u001b[0mvaluesdict\u001b[0m\u001b[1;33m)\u001b[0m\u001b[1;33m)\u001b[0m\u001b[1;33m\u001b[0m\u001b[0m\n\u001b[0;32m      4\u001b[0m    \u001b[0mprint\u001b[0m\u001b[1;33m(\u001b[0m\u001b[0mscalarize\u001b[0m\u001b[1;33m(\u001b[0m\u001b[0mvaluesdict\u001b[0m\u001b[1;33m)\u001b[0m\u001b[1;33m)\u001b[0m\u001b[1;33m\u001b[0m\u001b[0m\n\u001b[0;32m      5\u001b[0m \u001b[1;33m\u001b[0m\u001b[0m\n",
      "\u001b[1;32m<ipython-input-10-88582c61f0b4>\u001b[0m in \u001b[0;36m<listcomp>\u001b[1;34m(.0)\u001b[0m\n\u001b[0;32m      1\u001b[0m \u001b[1;32mdef\u001b[0m \u001b[0mscalar\u001b[0m\u001b[1;33m(\u001b[0m\u001b[0mvaluesdict\u001b[0m\u001b[1;33m)\u001b[0m\u001b[1;33m:\u001b[0m\u001b[1;33m\u001b[0m\u001b[0m\n\u001b[1;32m----> 2\u001b[1;33m    \u001b[0mscalarize\u001b[0m \u001b[1;33m=\u001b[0m \u001b[1;32mlambda\u001b[0m \u001b[0mdictionary\u001b[0m\u001b[1;33m:\u001b[0m \u001b[1;33m[\u001b[0m\u001b[1;33m(\u001b[0m\u001b[0mi\u001b[0m\u001b[1;33m,\u001b[0m \u001b[0mxy\u001b[0m\u001b[1;33m[\u001b[0m\u001b[1;36m0\u001b[0m\u001b[1;33m]\u001b[0m\u001b[1;33m,\u001b[0m \u001b[0mxy\u001b[0m\u001b[1;33m[\u001b[0m\u001b[1;36m1\u001b[0m\u001b[1;33m]\u001b[0m\u001b[1;33m,\u001b[0m \u001b[0mz\u001b[0m\u001b[1;33m)\u001b[0m \u001b[1;32mfor\u001b[0m \u001b[0mi\u001b[0m\u001b[1;33m,\u001b[0m\u001b[0mxy\u001b[0m\u001b[1;33m,\u001b[0m\u001b[0mz\u001b[0m \u001b[1;32min\u001b[0m \u001b[0menumerate\u001b[0m\u001b[1;33m(\u001b[0m\u001b[0mdictionary\u001b[0m\u001b[1;33m)\u001b[0m\u001b[1;33m]\u001b[0m\u001b[1;33m\u001b[0m\u001b[0m\n\u001b[0m\u001b[0;32m      3\u001b[0m    \u001b[0mNX\u001b[0m \u001b[1;33m=\u001b[0m \u001b[0mnumpy\u001b[0m\u001b[1;33m.\u001b[0m\u001b[0marray\u001b[0m\u001b[1;33m(\u001b[0m\u001b[0mscalarize\u001b[0m\u001b[1;33m(\u001b[0m\u001b[0mvaluesdict\u001b[0m\u001b[1;33m)\u001b[0m\u001b[1;33m)\u001b[0m\u001b[1;33m\u001b[0m\u001b[0m\n\u001b[0;32m      4\u001b[0m    \u001b[0mprint\u001b[0m\u001b[1;33m(\u001b[0m\u001b[0mscalarize\u001b[0m\u001b[1;33m(\u001b[0m\u001b[0mvaluesdict\u001b[0m\u001b[1;33m)\u001b[0m\u001b[1;33m)\u001b[0m\u001b[1;33m\u001b[0m\u001b[0m\n\u001b[0;32m      5\u001b[0m \u001b[1;33m\u001b[0m\u001b[0m\n",
      "\u001b[1;31mValueError\u001b[0m: not enough values to unpack (expected 3, got 2)"
     ],
     "output_type": "error"
    }
   ],
   "source": [
    "def scalar(valuesdict):\n",
    "   scalarize = lambda dictionary: [(i, xy[0], xy[1], z) for i,xy,z in enumerate(dictionary)]\n",
    "   NX = numpy.array(scalarize(valuesdict))\n",
    "   print(scalarize(valuesdict))\n",
    "\n",
    "scalar(compositevalues)"
   ]
  },
  {
   "cell_type": "code",
   "execution_count": 32,
   "metadata": {
    "collapsed": false
   },
   "outputs": [
    {
     "name": "stdout",
     "output_type": "stream",
     "text": [
      "dict_keys(['(0, 0)', '(1, 0)', '(2, 0)', '(3, 0)', '(4, 0)', '(5, 0)', '(6, 0)', '(0, 1)', '(1, 1)', '(2, 1)', '(3, 1)', '(4, 1)', '(5, 1)', '(6, 1)', '(0, 2)', '(1, 2)', '(2, 2)', '(3, 2)', '(4, 2)', '(5, 2)', '(6, 2)', '(0, 3)', '(1, 3)', '(2, 3)', '(3, 3)', '(4, 3)', '(5, 3)', '(6, 3)', '(0, 4)', '(1, 4)', '(2, 4)', '(3, 4)', '(4, 4)', '(5, 4)', '(6, 4)', '(0, 5)', '(1, 5)', '(2, 5)', '(3, 5)', '(4, 5)', '(5, 5)', '(6, 5)', '(0, 6)', '(1, 6)', '(2, 6)', '(3, 6)', '(4, 6)', '(5, 6)', '(6, 6)'])\n"
     ]
    }
   ],
   "source": [
    "import pandas as pd\n",
    "\n",
    "columns = [movesdict.keys()]\n",
    "\n",
    "print(movesdict.keys())"
   ]
  },
  {
   "cell_type": "code",
   "execution_count": 12,
   "metadata": {
    "collapsed": true
   },
   "outputs": [
    {
     "data": {
      "text/plain": [
       "<function isolation.isolation.memoize.<locals>.memoizer>"
      ]
     },
     "execution_count": 12,
     "metadata": {},
     "output_type": "execute_result"
    }
   ],
   "source": [
    "from isolation import Board\n",
    "import functools\n",
    "def memoize(game):\n",
    "    cache = game.cache = {}\n",
    "    \n",
    "    @functools.wraps(game)\n",
    "    def memoizer(*args, **kwargs):\n",
    "        if args not in cache:\n",
    "            print('Not in Cache!, adding...')\n",
    "            cache[args] = game(*args, **kwargs)\n",
    "        return cache[args]\n",
    "    return memoizer\n",
    "   \n",
    "game = Board(0,1)\n",
    "  \n",
    "memoize(game)\n"
   ]
  },
  {
   "cell_type": "code",
   "execution_count": null,
   "metadata": {},
   "outputs": [],
   "source": [
    "from copy import deepcopy\n",
    "import math, random\n",
    "from isolation import Board\n",
    "\n",
    "class SearchTimeout(Exception):\n",
    "    \"\"\"Subclass base exception for code clarity. \"\"\"\n",
    "    pass\n",
    "\n",
    "def EvalBoard(game, player):\n",
    "    score = len(game.get_legal_moves(player))\n",
    "    return score\n",
    "\n",
    "class MinimaxPlayer():\n",
    "    \"\"\"Game-playing agent that chooses a move using depth-limited minimax\n",
    "    search. You must finish and test this player to make sure it properly uses\n",
    "    minimax to return a good move before the search time limit expires.\n",
    "    \"\"\"\n",
    "    def __init__(self, search_depth=3, score_fn=EvalBoard, timeout=10.):\n",
    "        \n",
    "        self.search_depth = search_depth\n",
    "        self.score = score_fn\n",
    "        self.time_left = None\n",
    "        self.TIMER_THRESHOLD = timeout\n",
    "        self.minval = float(\"-inf\")\n",
    "        self.maxval = float(\"inf\")\n",
    "\n",
    "    def get_move(self, game, time_left):\n",
    "        \"\"\"Search for the best move from the available legal moves and return a\n",
    "        result before the time limit expires.\n",
    "\n",
    "        **************  YOU DO NOT NEED TO MODIFY THIS FUNCTION  *************\n",
    "\n",
    "        For fixed-depth search, this function simply wraps the call to the\n",
    "        minimax method, but this method provides a common interface for all\n",
    "        Isolation agents, and you will replace it in the AlphaBetaPlayer with\n",
    "        iterative deepening search.\n",
    "\n",
    "        Parameters\n",
    "        ----------\n",
    "        game : `isolation.Board`\n",
    "            An instance of `isolation.Board` encoding the current state of the\n",
    "            game (e.g., player locations and blocked cells).\n",
    "\n",
    "        time_left : callable\n",
    "            A function that returns the number of milliseconds left in the\n",
    "            current turn. Returning with any less than 0 ms remaining forfeits\n",
    "            the game.   \n",
    "\n",
    "        Returns\n",
    "        -------\n",
    "        (int, int)\n",
    "            Board coordinates corresponding to a legal move; may return\n",
    "            (-1, -1) if there are no available legal moves.\n",
    "        \"\"\"\n",
    "        self.time_left = time_left\n",
    "\n",
    "        # Initialize the best move so that this function returns something\n",
    "        # in case the search fails due to timeout\n",
    "        best_move = (-1, -1)\n",
    "\n",
    "        try:\n",
    "            while self.time_left >= self.TIMER_THRESHOLD:\n",
    "            # The try/except block will automatically catch the exception\n",
    "            # raised when the timer is about to expire.\n",
    "            return self.minimax(game, self.search_depth)\n",
    "\n",
    "        except SearchTimeout:\n",
    "            pass  # Handle any actions required after timeout as needed\n",
    "\n",
    "        # Return the best move from the last completed search iteration\n",
    "        return best_move\n",
    "    \n",
    "    def isTerminal(self, game, player, depth):\n",
    "        if depth <= 0 or len(game.get_legal_moves(player)) <= 0:\n",
    "            return True\n",
    "        else:\n",
    "            return False\n",
    "\n",
    "    def GetSortedNodes(self, game, isMAX):\n",
    "        '''\n",
    "\n",
    "        :param game: object; instance of Board class.\n",
    "        :param isMAX: BOOL; flag for switching between maximizing\n",
    "                        and minimizing players\n",
    "        :return: [(int, int) * len(game.get_legal_moves())]\n",
    "\n",
    "        returns a list of moves, in order of scores.\n",
    "        sorted by scores from self.score(game, player)\n",
    "        Ascending/Descending for MIN/MAX resp.\n",
    "\n",
    "        Call this instead of game.get_legal_moves()\n",
    "        '''\n",
    "        sortedNodes = []\n",
    "        legals = game.get_legal_moves()\n",
    "        if legals:\n",
    "            for move_ in legals:\n",
    "                nextgame = game.forecast_move(move_)\n",
    "                appendscore = [move_, self.score(nextgame, self)]\n",
    "                sortedNodes.append(appendscore)\n",
    "        else:\n",
    "            return None\n",
    "\n",
    "        if isMAX:\n",
    "            sortedNodes = sorted(sortedNodes, key=lambda node: node[1], reverse=True)\n",
    "        else:\n",
    "            sortedNodes = sorted(sortedNodes, key=lambda node: node[1], reverse=False)\n",
    "            \n",
    "        sortedNodes = [node[0] for node in sortedNodes]\n",
    "        return sortedNodes\n",
    "\n",
    "\n",
    "   \n"
   ]
  }
 ],
 "metadata": {
  "kernelspec": {
   "display_name": "Python 2",
   "language": "python",
   "name": "python2"
  },
  "language_info": {
   "codemirror_mode": {
    "name": "ipython",
    "version": 2
   },
   "file_extension": ".py",
   "mimetype": "text/x-python",
   "name": "python",
   "nbconvert_exporter": "python",
   "pygments_lexer": "ipython2",
   "version": "2.7.6"
  }
 },
 "nbformat": 4,
 "nbformat_minor": 0
}
