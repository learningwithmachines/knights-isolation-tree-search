{
 "cells": [
  {
   "cell_type": "code",
   "execution_count": 19,
   "metadata": {
    "collapsed": true
   },
   "outputs": [],
   "source": [
    "import numpy as np\n",
    "import pandas as pd\n",
    "import matplotlib.pyplot as plot\n",
    "from IPython.display import display\n",
    "\n",
    "groups = 7\n",
    "heuristicvalues = []\n",
    "id_values = []\n",
    "labels = ('Random', 'MM_Open', 'MM_Center', 'MM_Improved', 'AB_Open', 'AB_Centered', 'AB_Improved')\n",
    "\n",
    "index = np.arange(groups)\n",
    "bar_width = 0.35\n",
    "\n",
    "def plot_graph_tables(AB_I_values, heuristic_values, label):\n",
    "    data = {'ID_Improved Agent Wins (Out of 10)': AB_I_values, 'Custom Agent Wins (Out of 10)': heuristic_values}\n",
    "    dataframe = pd.DataFrame(data)\n",
    "    display(dataframe)\n",
    "    AB_values = AB_I_values\n",
    "    custom_agent_values = heuristic_values\n",
    "    plot.bar(index, AB_values, bar_width,\n",
    "             color='b',\n",
    "             label='AB_Improved Agent')\n",
    "\n",
    "    plot.bar(index + bar_width, custom_agent_values, bar_width,\n",
    "                     color='r', label = label)\n",
    "\n",
    "    plot.xlabel('Agents')\n",
    "    plot.ylabel('Wins (OUT OF 20)')\n",
    "    plot.title('AB_Improved V/s Custom Agents')\n",
    "    plot.xticks(index + bar_width / 2, labels)\n",
    "    plot.rcParams[\"figure.figsize\"] = [20, 5]\n",
    "    plot.legend()\n",
    "    plot.show()\n",
    "    "
   ]
  },
  {
   "cell_type": "code",
   "execution_count": 20,
   "metadata": {},
   "outputs": [
    {
     "data": {
      "text/html": [
       "<div>\n",
       "<style>\n",
       "    .dataframe thead tr:only-child th {\n",
       "        text-align: right;\n",
       "    }\n",
       "\n",
       "    .dataframe thead th {\n",
       "        text-align: left;\n",
       "    }\n",
       "\n",
       "    .dataframe tbody tr th {\n",
       "        vertical-align: top;\n",
       "    }\n",
       "</style>\n",
       "<table border=\"1\" class=\"dataframe\">\n",
       "  <thead>\n",
       "    <tr style=\"text-align: right;\">\n",
       "      <th></th>\n",
       "      <th>Custom Agent Wins (Out of 10)</th>\n",
       "      <th>ID_Improved Agent Wins (Out of 10)</th>\n",
       "    </tr>\n",
       "  </thead>\n",
       "  <tbody>\n",
       "    <tr>\n",
       "      <th>0</th>\n",
       "      <td>10</td>\n",
       "      <td>10</td>\n",
       "    </tr>\n",
       "    <tr>\n",
       "      <th>1</th>\n",
       "      <td>8</td>\n",
       "      <td>9</td>\n",
       "    </tr>\n",
       "    <tr>\n",
       "      <th>2</th>\n",
       "      <td>10</td>\n",
       "      <td>10</td>\n",
       "    </tr>\n",
       "    <tr>\n",
       "      <th>3</th>\n",
       "      <td>9</td>\n",
       "      <td>9</td>\n",
       "    </tr>\n",
       "    <tr>\n",
       "      <th>4</th>\n",
       "      <td>4</td>\n",
       "      <td>5</td>\n",
       "    </tr>\n",
       "    <tr>\n",
       "      <th>5</th>\n",
       "      <td>8</td>\n",
       "      <td>7</td>\n",
       "    </tr>\n",
       "    <tr>\n",
       "      <th>6</th>\n",
       "      <td>5</td>\n",
       "      <td>6</td>\n",
       "    </tr>\n",
       "  </tbody>\n",
       "</table>\n",
       "</div>"
      ],
      "text/plain": [
       "<div>\n",
       "<style>\n",
       "    .dataframe thead tr:only-child th {\n",
       "        text-align: right;\n",
       "    }\n",
       "\n",
       "    .dataframe thead th {\n",
       "        text-align: left;\n",
       "    }\n",
       "\n",
       "    .dataframe tbody tr th {\n",
       "        vertical-align: top;\n",
       "    }\n",
       "</style>\n",
       "<table border=\"1\" class=\"dataframe\">\n",
       "  <thead>\n",
       "    <tr style=\"text-align: right;\">\n",
       "      <th></th>\n",
       "      <th>Custom Agent Wins (Out of 10)</th>\n",
       "      <th>ID_Improved Agent Wins (Out of 10)</th>\n",
       "    </tr>\n",
       "  </thead>\n",
       "  <tbody>\n",
       "    <tr>\n",
       "      <th>0</th>\n",
       "      <td>10</td>\n",
       "      <td>10</td>\n",
       "    </tr>\n",
       "    <tr>\n",
       "      <th>1</th>\n",
       "      <td>8</td>\n",
       "      <td>9</td>\n",
       "    </tr>\n",
       "    <tr>\n",
       "      <th>2</th>\n",
       "      <td>10</td>\n",
       "      <td>10</td>\n",
       "    </tr>\n",
       "    <tr>\n",
       "      <th>3</th>\n",
       "      <td>9</td>\n",
       "      <td>9</td>\n",
       "    </tr>\n",
       "    <tr>\n",
       "      <th>4</th>\n",
       "      <td>4</td>\n",
       "      <td>5</td>\n",
       "    </tr>\n",
       "    <tr>\n",
       "      <th>5</th>\n",
       "      <td>8</td>\n",
       "      <td>7</td>\n",
       "    </tr>\n",
       "    <tr>\n",
       "      <th>6</th>\n",
       "      <td>5</td>\n",
       "      <td>6</td>\n",
       "    </tr>\n",
       "  </tbody>\n",
       "</table>\n",
       "</div>"
      ]
     },
     "execution_count": 0,
     "metadata": {},
     "output_type": "execute_result"
    },
    {
     "data": {
      "image/png": "[encoded data removed]",
      "text/plain": [
       "<matplotlib.figure.Figure at 0x2a21d504b38>"
      ]
     },
     "metadata": {},
     "output_type": "display_data"
    }
   ],
   "source": [
    "#1st Trial\n",
    "\n",
    "AB_improved_values = [10, 9, 10, 9, 5, 7, 6]\n",
    "heuristic_1_values = [10, 8, 10, 9, 4, 8, 5]\n",
    "label = 'Custom Agent: Open Move Score'\n",
    "plot_graph_tables(AB_improved_values, heuristic_1_values, label)"
   ]
  },
  {
   "cell_type": "code",
   "execution_count": 2,
   "metadata": {},
   "outputs": [
    {
     "name": "stdout",
     "output_type": "stream",
     "text": [
      "(-1, -1) <-X-X-> [(-1, 2), (2, -1)]\n(1, -1) <-X-X-> [(1, 2), (-2, 1)]\n(-1, 1) <-X-X-> [(-1, -2), (1, 2)]\n(1, 1) <-X-X-> [(-1, 2), (1, -2)]\n"
     ]
    }
   ],
   "source": [
    "directions = {\n",
    "            (-1, -1): [(-1, 2), (2, -1)], # top left\n",
    "            (1, -1): [(1, 2), (-2, 1)],  # top right\n",
    "            (-1, 1): [(-1, -2), (1, 2)],  # bottom left\n",
    "            (1, 1): [(-1, 2), (1, -2)]     # bottom right\n",
    "            }\n",
    "\n",
    "for keys, values in directions.items():\n",
    "    print(keys,\"<-X-X->\",values)"
   ]
  },
  {
   "cell_type": "code",
   "execution_count": 4,
   "metadata": {
    "collapsed": true
   },
   "outputs": [
    {
     "name": "stdout",
     "output_type": "stream",
     "text": [
      "(0, 0) : 2\n(1, 0) : 3\n(2, 0) : 4\n(3, 0) : 4\n(4, 0) : 4\n(5, 0) : 3\n(6, 0) : 2\n(0, 1) : 3\n(1, 1) : 4\n(2, 1) : 6\n(3, 1) : 6\n(4, 1) : 6\n(5, 1) : 4\n(6, 1) : 3\n(0, 2) : 4\n(1, 2) : 6\n(2, 2) : 8\n(3, 2) : 8\n(4, 2) : 8\n(5, 2) : 6\n(6, 2) : 4\n(0, 3) : 4\n(1, 3) : 6\n(2, 3) : 8\n(3, 3) : 8\n(4, 3) : 8\n(5, 3) : 6\n(6, 3) : 4\n(0, 4) : 4\n(1, 4) : 6\n(2, 4) : 8\n(3, 4) : 8\n(4, 4) : 8\n(5, 4) : 6\n(6, 4) : 4\n(0, 5) : 3\n(1, 5) : 4\n(2, 5) : 6\n(3, 5) : 6\n(4, 5) : 6\n(5, 5) : 4\n(6, 5) : 3\n(0, 6) : 2\n(1, 6) : 3\n(2, 6) : 4\n(3, 6) : 4\n(4, 6) : 4\n(5, 6) : 3\n(6, 6) : 2\n"
     ]
    }
   ],
   "source": [
    "# Bottoms Up\n",
    "# Use Random Blocking to see how safe certain moves in cells are.\n",
    "# Moves Safety (Living to die another day)\n",
    "import math, numpy\n",
    "import pandas\n",
    "from isolation import Board\n",
    "\n",
    "def applymoves(cell):\n",
    "    newgame = Board(1,0)\n",
    "    newgame.apply_move(cell)\n",
    "    playermoves  = newgame.get_legal_moves()\n",
    "    vectors = ((-2, -1), (-2, 1), (-1, -2), (-1, 2), (1, -2), (1, 2), (2, -1), (2, 1))\n",
    "    nextmovescore = len([(cell[0] + ray_[0], cell[1] + ray_[1])\n",
    "                    for ray_ in vectors if (cell[0] + ray_[0], cell[1] + ray_[1]) in playermoves ])\n",
    "    return nextmovescore\n",
    "\n",
    "newgame = Board(1,0)\n",
    "allcells = newgame.get_blank_spaces()\n",
    "movesdict = {}\n",
    "\n",
    "for cell in allcells:\n",
    "    #print (cell)\n",
    "    ID = str(cell)\n",
    "    COUNT = applymoves(cell)\n",
    "    movesdict[ID] = COUNT\n",
    "    newgame = Board(1,0)\n",
    "\n",
    "for key in movesdict:\n",
    "    print(key,\":\",movesdict[key])\n",
    "        "
   ]
  },
  {
   "cell_type": "code",
   "execution_count": 5,
   "metadata": {
    "collapsed": true
   },
   "outputs": [
    {
     "name": "stdout",
     "output_type": "stream",
     "text": [
      "(0, 0) : 18\n(1, 0) : 13\n(2, 0) : 10\n(3, 0) : 9\n(4, 0) : 10\n(5, 0) : 13\n(6, 0) : 18\n(0, 1) : 13\n(1, 1) : 8\n(2, 1) : 5\n(3, 1) : 4\n(4, 1) : 5\n(5, 1) : 8\n(6, 1) : 13\n(0, 2) : 10\n(1, 2) : 5\n(2, 2) : 2\n(3, 2) : 1\n(4, 2) : 2\n(5, 2) : 5\n(6, 2) : 10\n(0, 3) : 9\n(1, 3) : 4\n(2, 3) : 1\n(3, 3) : 0\n(4, 3) : 1\n(5, 3) : 4\n(6, 3) : 9\n(0, 4) : 10\n(1, 4) : 5\n(2, 4) : 2\n(3, 4) : 1\n(4, 4) : 2\n(5, 4) : 5\n(6, 4) : 10\n(0, 5) : 13\n(1, 5) : 8\n(2, 5) : 5\n(3, 5) : 4\n(4, 5) : 5\n(5, 5) : 8\n(6, 5) : 13\n(0, 6) : 18\n(1, 6) : 13\n(2, 6) : 10\n(3, 6) : 9\n(4, 6) : 10\n(5, 6) : 13\n(6, 6) : 18\n"
     ]
    }
   ],
   "source": [
    "# What are the Grid's Centrality Values ?\n",
    "import math, numpy\n",
    "import pandas\n",
    "\n",
    "def distance(game, move1, move2 = None):\n",
    "\n",
    "    cx, cy = math.ceil((game.width-1) /2), math.ceil((game.height-1) /2)\n",
    "    \n",
    "    if move2:\n",
    "        return (move1[0] - move2[0]) ** 2 + (move1[1] - move2[0]) ** 2\n",
    "    else:\n",
    "        return (move1[0] - cx) ** 2 + (move1[1] - cy) ** 2\n",
    "\n",
    "from isolation import Board\n",
    "newgame = Board(1,0)\n",
    "\n",
    "allcells = newgame.get_blank_spaces()\n",
    "centerdict = {}\n",
    "\n",
    "for cell in allcells:\n",
    "    #print (cell)\n",
    "    newgame.apply_move(cell)\n",
    "    ID = str(cell)\n",
    "    CNT = distance(newgame, cell)\n",
    "    centerdict[ID] = CNT\n",
    "    newgame = Board(1,0)\n",
    "\n",
    "for key in movesdict:\n",
    "    print(key,\":\",centerdict[key])\n"
   ]
  },
  {
   "cell_type": "code",
   "execution_count": 8,
   "metadata": {
    "collapsed": true
   },
   "outputs": [
    {
     "name": "stdout",
     "output_type": "stream",
     "text": [
      "(0, 0) : -16\n(1, 0) : -10\n(2, 0) : -6\n(3, 0) : -5\n(4, 0) : -6\n(5, 0) : -10\n(6, 0) : -16\n(0, 1) : -10\n(1, 1) : -4\n(2, 1) : 1\n(3, 1) : 2\n(4, 1) : 1\n(5, 1) : -4\n(6, 1) : -10\n(0, 2) : -6\n(1, 2) : 1\n(2, 2) : 6\n(3, 2) : 7\n(4, 2) : 6\n(5, 2) : 1\n(6, 2) : -6\n(0, 3) : -5\n(1, 3) : 2\n(2, 3) : 7\n(3, 3) : 8\n(4, 3) : 7\n(5, 3) : 2\n(6, 3) : -5\n(0, 4) : -6\n(1, 4) : 1\n(2, 4) : 6\n(3, 4) : 7\n(4, 4) : 6\n(5, 4) : 1\n(6, 4) : -6\n(0, 5) : -10\n(1, 5) : -4\n(2, 5) : 1\n(3, 5) : 2\n(4, 5) : 1\n(5, 5) : -4\n(6, 5) : -10\n(0, 6) : -16\n(1, 6) : -10\n(2, 6) : -6\n(3, 6) : -5\n(4, 6) : -6\n(5, 6) : -10\n(6, 6) : -16\n"
     ]
    }
   ],
   "source": [
    "#creating a composite: early game to end game\n",
    "#minimizing moves: not a priority, good thing if it happens! --> critical\n",
    "#centrality: high priority --> low priority\n",
    "#chase: no priority --> high/strict priority\n",
    "\n",
    "#logic\n",
    "#chase --> distance to opponent is less than 1 or 2 game moves worth of length\n",
    "#chase --> map(distance: player location, opponent location) <= one / half * size(quadrant)\n",
    "#chase --> quadrant distance located near or far from centre\n",
    "\n",
    "#centrality --> distance (centre, move) 4 maximas along diagonals, 4 minimas along orthogonal\n",
    "#centrality --> maximise without compromising moves, minimise without too\n",
    "\n",
    "#moves --> len(pmoves)-(omoves)*num, agressive: num >= 1, relaxed: num <= 1\n",
    "#moves --> \n",
    "\n",
    "compositevalues = {}\n",
    "\n",
    "for keys in movesdict:\n",
    "    compositevalues[keys] = movesdict[keys] - centerdict[keys]\n",
    "\n",
    "for key in compositevalues:\n",
    "    print(key,\":\",compositevalues[key])"
   ]
  },
  {
   "cell_type": "code",
   "execution_count": 6,
   "metadata": {
    "collapsed": true
   },
   "outputs": [
    {
     "ename": "SyntaxError",
     "evalue": "non-default argument follows default argument (<ipython-input-6-caecdb07b698>, line 6)",
     "traceback": [
      "\u001b[1;36m  File \u001b[1;32m\"<ipython-input-6-caecdb07b698>\"\u001b[1;36m, line \u001b[1;32m6\u001b[0m\n\u001b[1;33m    def plot_3d_contour(x_dim=7, y_dim=7, x_steps=1, y_steps=1, scalar_field, file_path):\u001b[0m\n\u001b[1;37m                       ^\u001b[0m\n\u001b[1;31mSyntaxError\u001b[0m\u001b[1;31m:\u001b[0m non-default argument follows default argument\n"
     ],
     "output_type": "error"
    }
   ],
   "source": [
    "import matplotlib.pyplot as plt\n",
    "from mpl_toolkits.mplot3d import axes3d\n",
    "from matplotlib import cm\n",
    "import numpy\n",
    "\n",
    "def plot_3d_contour(x_dim=7, y_dim=7, x_steps=1, y_steps=1, scalar_field, file_path):\n",
    "    fig = plt.figure()\n",
    "\n",
    "    x, y = numpy.mgrid[-x_dim/2:x_dim/2:x_steps*1j, -y_dim/2:y_dim/2:y_steps*1j]\n",
    "    v_min = numpy.min(scalar_field)\n",
    "    v_max = nupmy.max(scalar_field)\n",
    "\n",
    "    ax = fig.gca(projection='3d')\n",
    "\n",
    "    cset = ax.contourf(x, y, scalar_field, zdir='z', offset=v_min, cmap=cm.coolwarm)\n",
    "    cset = ax.contourf(x, y, scalar_field, zdir='x', offset=-x_dim/2-1, cmap=cm.coolwarm)\n",
    "    cset = ax.contourf(x, y, scalar_field, zdir='y', offset=y_dim/2+1, cmap=cm.coolwarm)\n",
    "\n",
    "    ax.plot_surface(x, y, scalar_field, rstride=10, cstride=10, alpha=0.3)\n",
    "\n",
    "    ax.set_xlabel('X')\n",
    "    ax.set_xlim(-x_dim/2-1, x_dim/2+1)\n",
    "    ax.set_ylabel('Y')\n",
    "    ax.set_ylim(-y_dim/2-1, y_dim/2+1)\n",
    "    ax.set_zlabel('Z')\n",
    "    ax.set_zlim(v_min, v_max)\n",
    "\n",
    "    plt.savefig(file_path + '.jpg')\n",
    "    plt.close()\n",
    "\n",
    "\n",
    "plot_3d_contour(12, 12, 100, 100, scalar_field, 'scalar_field3D')"
   ]
  },
  {
   "cell_type": "code",
   "execution_count": 10,
   "metadata": {
    "collapsed": true
   },
   "outputs": [
    {
     "ename": "ValueError",
     "evalue": "not enough values to unpack (expected 3, got 2)",
     "traceback": [
      "\u001b[1;31m---------------------------------------------------------------------------\u001b[0m",
      "\u001b[1;31mValueError\u001b[0m                                Traceback (most recent call last)",
      "\u001b[1;32m<ipython-input-10-88582c61f0b4>\u001b[0m in \u001b[0;36m<module>\u001b[1;34m()\u001b[0m\n\u001b[0;32m      4\u001b[0m    \u001b[0mprint\u001b[0m\u001b[1;33m(\u001b[0m\u001b[0mscalarize\u001b[0m\u001b[1;33m(\u001b[0m\u001b[0mvaluesdict\u001b[0m\u001b[1;33m)\u001b[0m\u001b[1;33m)\u001b[0m\u001b[1;33m\u001b[0m\u001b[0m\n\u001b[0;32m      5\u001b[0m \u001b[1;33m\u001b[0m\u001b[0m\n\u001b[1;32m----> 6\u001b[1;33m \u001b[0mscalar\u001b[0m\u001b[1;33m(\u001b[0m\u001b[0mcompositevalues\u001b[0m\u001b[1;33m)\u001b[0m\u001b[1;33m\u001b[0m\u001b[0m\n\u001b[0m",
      "\u001b[1;32m<ipython-input-10-88582c61f0b4>\u001b[0m in \u001b[0;36mscalar\u001b[1;34m(valuesdict)\u001b[0m\n\u001b[0;32m      1\u001b[0m \u001b[1;32mdef\u001b[0m \u001b[0mscalar\u001b[0m\u001b[1;33m(\u001b[0m\u001b[0mvaluesdict\u001b[0m\u001b[1;33m)\u001b[0m\u001b[1;33m:\u001b[0m\u001b[1;33m\u001b[0m\u001b[0m\n\u001b[0;32m      2\u001b[0m    \u001b[0mscalarize\u001b[0m \u001b[1;33m=\u001b[0m \u001b[1;32mlambda\u001b[0m \u001b[0mdictionary\u001b[0m\u001b[1;33m:\u001b[0m \u001b[1;33m[\u001b[0m\u001b[1;33m(\u001b[0m\u001b[0mi\u001b[0m\u001b[1;33m,\u001b[0m \u001b[0mxy\u001b[0m\u001b[1;33m[\u001b[0m\u001b[1;36m0\u001b[0m\u001b[1;33m]\u001b[0m\u001b[1;33m,\u001b[0m \u001b[0mxy\u001b[0m\u001b[1;33m[\u001b[0m\u001b[1;36m1\u001b[0m\u001b[1;33m]\u001b[0m\u001b[1;33m,\u001b[0m \u001b[0mz\u001b[0m\u001b[1;33m)\u001b[0m \u001b[1;32mfor\u001b[0m \u001b[0mi\u001b[0m\u001b[1;33m,\u001b[0m\u001b[0mxy\u001b[0m\u001b[1;33m,\u001b[0m\u001b[0mz\u001b[0m \u001b[1;32min\u001b[0m \u001b[0menumerate\u001b[0m\u001b[1;33m(\u001b[0m\u001b[0mdictionary\u001b[0m\u001b[1;33m)\u001b[0m\u001b[1;33m]\u001b[0m\u001b[1;33m\u001b[0m\u001b[0m\n\u001b[1;32m----> 3\u001b[1;33m    \u001b[0mNX\u001b[0m \u001b[1;33m=\u001b[0m \u001b[0mnumpy\u001b[0m\u001b[1;33m.\u001b[0m\u001b[0marray\u001b[0m\u001b[1;33m(\u001b[0m\u001b[0mscalarize\u001b[0m\u001b[1;33m(\u001b[0m\u001b[0mvaluesdict\u001b[0m\u001b[1;33m)\u001b[0m\u001b[1;33m)\u001b[0m\u001b[1;33m\u001b[0m\u001b[0m\n\u001b[0m\u001b[0;32m      4\u001b[0m    \u001b[0mprint\u001b[0m\u001b[1;33m(\u001b[0m\u001b[0mscalarize\u001b[0m\u001b[1;33m(\u001b[0m\u001b[0mvaluesdict\u001b[0m\u001b[1;33m)\u001b[0m\u001b[1;33m)\u001b[0m\u001b[1;33m\u001b[0m\u001b[0m\n\u001b[0;32m      5\u001b[0m \u001b[1;33m\u001b[0m\u001b[0m\n",
      "\u001b[1;32m<ipython-input-10-88582c61f0b4>\u001b[0m in \u001b[0;36m<lambda>\u001b[1;34m(dictionary)\u001b[0m\n\u001b[0;32m      1\u001b[0m \u001b[1;32mdef\u001b[0m \u001b[0mscalar\u001b[0m\u001b[1;33m(\u001b[0m\u001b[0mvaluesdict\u001b[0m\u001b[1;33m)\u001b[0m\u001b[1;33m:\u001b[0m\u001b[1;33m\u001b[0m\u001b[0m\n\u001b[1;32m----> 2\u001b[1;33m    \u001b[0mscalarize\u001b[0m \u001b[1;33m=\u001b[0m \u001b[1;32mlambda\u001b[0m \u001b[0mdictionary\u001b[0m\u001b[1;33m:\u001b[0m \u001b[1;33m[\u001b[0m\u001b[1;33m(\u001b[0m\u001b[0mi\u001b[0m\u001b[1;33m,\u001b[0m \u001b[0mxy\u001b[0m\u001b[1;33m[\u001b[0m\u001b[1;36m0\u001b[0m\u001b[1;33m]\u001b[0m\u001b[1;33m,\u001b[0m \u001b[0mxy\u001b[0m\u001b[1;33m[\u001b[0m\u001b[1;36m1\u001b[0m\u001b[1;33m]\u001b[0m\u001b[1;33m,\u001b[0m \u001b[0mz\u001b[0m\u001b[1;33m)\u001b[0m \u001b[1;32mfor\u001b[0m \u001b[0mi\u001b[0m\u001b[1;33m,\u001b[0m\u001b[0mxy\u001b[0m\u001b[1;33m,\u001b[0m\u001b[0mz\u001b[0m \u001b[1;32min\u001b[0m \u001b[0menumerate\u001b[0m\u001b[1;33m(\u001b[0m\u001b[0mdictionary\u001b[0m\u001b[1;33m)\u001b[0m\u001b[1;33m]\u001b[0m\u001b[1;33m\u001b[0m\u001b[0m\n\u001b[0m\u001b[0;32m      3\u001b[0m    \u001b[0mNX\u001b[0m \u001b[1;33m=\u001b[0m \u001b[0mnumpy\u001b[0m\u001b[1;33m.\u001b[0m\u001b[0marray\u001b[0m\u001b[1;33m(\u001b[0m\u001b[0mscalarize\u001b[0m\u001b[1;33m(\u001b[0m\u001b[0mvaluesdict\u001b[0m\u001b[1;33m)\u001b[0m\u001b[1;33m)\u001b[0m\u001b[1;33m\u001b[0m\u001b[0m\n\u001b[0;32m      4\u001b[0m    \u001b[0mprint\u001b[0m\u001b[1;33m(\u001b[0m\u001b[0mscalarize\u001b[0m\u001b[1;33m(\u001b[0m\u001b[0mvaluesdict\u001b[0m\u001b[1;33m)\u001b[0m\u001b[1;33m)\u001b[0m\u001b[1;33m\u001b[0m\u001b[0m\n\u001b[0;32m      5\u001b[0m \u001b[1;33m\u001b[0m\u001b[0m\n",
      "\u001b[1;32m<ipython-input-10-88582c61f0b4>\u001b[0m in \u001b[0;36m<listcomp>\u001b[1;34m(.0)\u001b[0m\n\u001b[0;32m      1\u001b[0m \u001b[1;32mdef\u001b[0m \u001b[0mscalar\u001b[0m\u001b[1;33m(\u001b[0m\u001b[0mvaluesdict\u001b[0m\u001b[1;33m)\u001b[0m\u001b[1;33m:\u001b[0m\u001b[1;33m\u001b[0m\u001b[0m\n\u001b[1;32m----> 2\u001b[1;33m    \u001b[0mscalarize\u001b[0m \u001b[1;33m=\u001b[0m \u001b[1;32mlambda\u001b[0m \u001b[0mdictionary\u001b[0m\u001b[1;33m:\u001b[0m \u001b[1;33m[\u001b[0m\u001b[1;33m(\u001b[0m\u001b[0mi\u001b[0m\u001b[1;33m,\u001b[0m \u001b[0mxy\u001b[0m\u001b[1;33m[\u001b[0m\u001b[1;36m0\u001b[0m\u001b[1;33m]\u001b[0m\u001b[1;33m,\u001b[0m \u001b[0mxy\u001b[0m\u001b[1;33m[\u001b[0m\u001b[1;36m1\u001b[0m\u001b[1;33m]\u001b[0m\u001b[1;33m,\u001b[0m \u001b[0mz\u001b[0m\u001b[1;33m)\u001b[0m \u001b[1;32mfor\u001b[0m \u001b[0mi\u001b[0m\u001b[1;33m,\u001b[0m\u001b[0mxy\u001b[0m\u001b[1;33m,\u001b[0m\u001b[0mz\u001b[0m \u001b[1;32min\u001b[0m \u001b[0menumerate\u001b[0m\u001b[1;33m(\u001b[0m\u001b[0mdictionary\u001b[0m\u001b[1;33m)\u001b[0m\u001b[1;33m]\u001b[0m\u001b[1;33m\u001b[0m\u001b[0m\n\u001b[0m\u001b[0;32m      3\u001b[0m    \u001b[0mNX\u001b[0m \u001b[1;33m=\u001b[0m \u001b[0mnumpy\u001b[0m\u001b[1;33m.\u001b[0m\u001b[0marray\u001b[0m\u001b[1;33m(\u001b[0m\u001b[0mscalarize\u001b[0m\u001b[1;33m(\u001b[0m\u001b[0mvaluesdict\u001b[0m\u001b[1;33m)\u001b[0m\u001b[1;33m)\u001b[0m\u001b[1;33m\u001b[0m\u001b[0m\n\u001b[0;32m      4\u001b[0m    \u001b[0mprint\u001b[0m\u001b[1;33m(\u001b[0m\u001b[0mscalarize\u001b[0m\u001b[1;33m(\u001b[0m\u001b[0mvaluesdict\u001b[0m\u001b[1;33m)\u001b[0m\u001b[1;33m)\u001b[0m\u001b[1;33m\u001b[0m\u001b[0m\n\u001b[0;32m      5\u001b[0m \u001b[1;33m\u001b[0m\u001b[0m\n",
      "\u001b[1;31mValueError\u001b[0m: not enough values to unpack (expected 3, got 2)"
     ],
     "output_type": "error"
    }
   ],
   "source": [
    "def scalar(valuesdict):\n",
    "   scalarize = lambda dictionary: [(i, xy[0], xy[1], z) for i,xy,z in enumerate(dictionary)]\n",
    "   NX = numpy.array(scalarize(valuesdict))\n",
    "   print(scalarize(valuesdict))\n",
    "\n",
    "scalar(compositevalues)"
   ]
  },
  {
   "cell_type": "code",
   "execution_count": 89,
   "metadata": {
    "collapsed": false
   },
   "outputs": [
    {
     "ename": "TypeError",
     "evalue": "publish() got an unexpected keyword argument 'transient'",
     "traceback": [
      "\u001b[1;31m---------------------------------------------------------------------------\u001b[0m",
      "\u001b[1;31mTypeError\u001b[0m                                 Traceback (most recent call last)",
      "\u001b[1;32m<ipython-input-89-914ff5991af9>\u001b[0m in \u001b[0;36m<module>\u001b[1;34m()\u001b[0m\n\u001b[0;32m      7\u001b[0m     \u001b[0mPDnow\u001b[0m\u001b[1;33m.\u001b[0m\u001b[0mupdate\u001b[0m\u001b[1;33m(\u001b[0m\u001b[0mXn\u001b[0m\u001b[1;33m)\u001b[0m\u001b[1;33m\u001b[0m\u001b[0m\n\u001b[0;32m      8\u001b[0m \u001b[1;33m\u001b[0m\u001b[0m\n\u001b[1;32m----> 9\u001b[1;33m \u001b[0mdisplay\u001b[0m\u001b[1;33m(\u001b[0m\u001b[0mPDnow\u001b[0m\u001b[1;33m,\u001b[0m\u001b[0mtransient\u001b[0m\u001b[1;33m=\u001b[0m\u001b[1;32mTrue\u001b[0m\u001b[1;33m)\u001b[0m\u001b[1;33m\u001b[0m\u001b[0m\n\u001b[0m",
      "\u001b[1;32mF:\\python\\anaconda\\envs\\aind\\lib\\site-packages\\IPython\\core\\display.py\u001b[0m in \u001b[0;36mdisplay\u001b[1;34m(include, exclude, metadata, transient, display_id, *objs, **kwargs)\u001b[0m\n\u001b[0;32m    302\u001b[0m                 \u001b[1;31m# kwarg-specified metadata gets precedence\u001b[0m\u001b[1;33m\u001b[0m\u001b[1;33m\u001b[0m\u001b[0m\n\u001b[0;32m    303\u001b[0m                 \u001b[0m_merge\u001b[0m\u001b[1;33m(\u001b[0m\u001b[0mmd_dict\u001b[0m\u001b[1;33m,\u001b[0m \u001b[0mmetadata\u001b[0m\u001b[1;33m)\u001b[0m\u001b[1;33m\u001b[0m\u001b[0m\n\u001b[1;32m--> 304\u001b[1;33m             \u001b[0mpublish_display_data\u001b[0m\u001b[1;33m(\u001b[0m\u001b[0mdata\u001b[0m\u001b[1;33m=\u001b[0m\u001b[0mformat_dict\u001b[0m\u001b[1;33m,\u001b[0m \u001b[0mmetadata\u001b[0m\u001b[1;33m=\u001b[0m\u001b[0mmd_dict\u001b[0m\u001b[1;33m,\u001b[0m \u001b[1;33m**\u001b[0m\u001b[0mkwargs\u001b[0m\u001b[1;33m)\u001b[0m\u001b[1;33m\u001b[0m\u001b[0m\n\u001b[0m\u001b[0;32m    305\u001b[0m     \u001b[1;32mif\u001b[0m \u001b[0mdisplay_id\u001b[0m\u001b[1;33m:\u001b[0m\u001b[1;33m\u001b[0m\u001b[0m\n\u001b[0;32m    306\u001b[0m         \u001b[1;32mreturn\u001b[0m \u001b[0mDisplayHandle\u001b[0m\u001b[1;33m(\u001b[0m\u001b[0mdisplay_id\u001b[0m\u001b[1;33m)\u001b[0m\u001b[1;33m\u001b[0m\u001b[0m\n",
      "\u001b[1;32mF:\\python\\anaconda\\envs\\aind\\lib\\site-packages\\IPython\\core\\display.py\u001b[0m in \u001b[0;36mpublish_display_data\u001b[1;34m(data, metadata, source, transient, **kwargs)\u001b[0m\n\u001b[0;32m    118\u001b[0m         \u001b[0mdata\u001b[0m\u001b[1;33m=\u001b[0m\u001b[0mdata\u001b[0m\u001b[1;33m,\u001b[0m\u001b[1;33m\u001b[0m\u001b[0m\n\u001b[0;32m    119\u001b[0m         \u001b[0mmetadata\u001b[0m\u001b[1;33m=\u001b[0m\u001b[0mmetadata\u001b[0m\u001b[1;33m,\u001b[0m\u001b[1;33m\u001b[0m\u001b[0m\n\u001b[1;32m--> 120\u001b[1;33m         \u001b[1;33m**\u001b[0m\u001b[0mkwargs\u001b[0m\u001b[1;33m\u001b[0m\u001b[0m\n\u001b[0m\u001b[0;32m    121\u001b[0m     )\n\u001b[0;32m    122\u001b[0m \u001b[1;33m\u001b[0m\u001b[0m\n",
      "\u001b[1;31mTypeError\u001b[0m: publish() got an unexpected keyword argument 'transient'"
     ],
     "output_type": "error"
    }
   ],
   "source": [
    "import pandas as pd\n",
    "from IPython.display import display\n",
    "mask = lambda Xx:[[Xt for Xt in [x,y[0][1],y[0][-2],y[1]]]for x,y in enumerate(Xx.items())]\n",
    "PDnow = pd.DataFrame()\n",
    "for Xn in mask(movesdict):\n",
    "    #print(Xn, \"\\n\")\n",
    "    PDnow.update(Xn)\n",
    "\n",
    "display(PDnow,)"
   ]
  },
  {
   "cell_type": "code",
   "execution_count": null,
   "metadata": {
    "collapsed": false
   },
   "outputs": [],
   "source": []
  }
 ],
 "metadata": {
  "kernelspec": {
   "display_name": "Python 2",
   "language": "python",
   "name": "python2"
  },
  "language_info": {
   "codemirror_mode": {
    "name": "ipython",
    "version": 2
   },
   "file_extension": ".py",
   "mimetype": "text/x-python",
   "name": "python",
   "nbconvert_exporter": "python",
   "pygments_lexer": "ipython2",
   "version": "2.7.6"
  }
 },
 "nbformat": 4,
 "nbformat_minor": 0
}
